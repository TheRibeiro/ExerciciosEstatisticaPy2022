{
  "nbformat": 4,
  "nbformat_minor": 0,
  "metadata": {
    "colab": {
      "provenance": []
    },
    "kernelspec": {
      "name": "python3",
      "display_name": "Python 3"
    },
    "language_info": {
      "name": "python"
    }
  },
  "cells": [
    {
      "cell_type": "markdown",
      "source": [
        "# Estimativa pontual\n",
        "Uma nova amostra aleatória de horas semanais trabalhadas por 30 funcionários\n",
        "de mercearias é mostrada na tabela a seguir:\n",
        "\n",
        "![Notebook Aula 13-01.png](data:image/png;base64,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)\n",
        "\n",
        "Use essa amostra para encontrar outra estimativa pontual para a média populacional $\\mu$."
      ],
      "metadata": {
        "id": "B1rQ83aixZlm"
      }
    },
    {
      "cell_type": "code",
      "source": [
        "import pandas as pd\n",
        "# Dados amostrais\n",
        "horas = pd.Series([26, 28, 32, 46, 32, 25, 22, 22, 20, 36,\n",
        "                   32, 28, 25, 35, 38, 31, 25, 22, 22, 32,\n",
        "                   28, 21, 26, 32, 22, 28, 40, 24, 48, 19])\n",
        "# Estimativa da média populacional\n",
        "x_barra = horas.mean()\n",
        "print(f'Estimativa da média populacional = {x_barra:.2f} horas.')"
      ],
      "metadata": {
        "colab": {
          "base_uri": "https://localhost:8080/"
        },
        "id": "2ZsVVjQax-km",
        "outputId": "e695c3e5-8fb0-4425-cbca-ee76eac9d4c1"
      },
      "execution_count": null,
      "outputs": [
        {
          "output_type": "stream",
          "name": "stdout",
          "text": [
            "Estimativa da média populacional = 28.90 horas.\n"
          ]
        }
      ]
    },
    {
      "cell_type": "markdown",
      "source": [
        "# Intervalo de confiança para a média, com $\\sigma$ conhecido\n",
        "Use os dados do da célula anterior para construir um intervalo de\n",
        "confiança de 95% para o número médio de horas semanais trabalhadas\n",
        "por funcionários de mercearias. Suponha que o desvio padrão da população\n",
        "seja de 7,9 horas."
      ],
      "metadata": {
        "id": "8YSJfudLIdBH"
      }
    },
    {
      "cell_type": "code",
      "execution_count": null,
      "metadata": {
        "colab": {
          "base_uri": "https://localhost:8080/"
        },
        "id": "cUcJnHfXgomZ",
        "outputId": "1d9ede24-347f-40ef-b165-fc41216d4563"
      },
      "outputs": [
        {
          "output_type": "stream",
          "name": "stdout",
          "text": [
            "*** Intervalo de conficança 95% para a média populacional ***\n",
            "(26.07, 31.73)\n"
          ]
        }
      ],
      "source": [
        "from scipy import stats as st\n",
        "# Desvio padrão populacional conhecido\n",
        "sigma = 7.9\n",
        "# Nível de confiança\n",
        "confianca = 0.95\n",
        "# Desvio padrão da distribuiução normal das médias amostrais\n",
        "n_amostras = 30\n",
        "sigma_x = sigma/n_amostras**0.5\n",
        "# Intervalo de confiança de 95% para a média populacional\n",
        "int_confianca = st.norm.interval(alpha=confianca, loc=x_barra, scale=sigma_x)\n",
        "print('*** Intervalo de conficança 95% para a média populacional ***')\n",
        "print(f'({int_confianca[0]:.2f}, {int_confianca[1]:.2f})')"
      ]
    },
    {
      "cell_type": "markdown",
      "source": [
        "# Alterando o nível de confiança\n",
        "Use os dados do exemplo anterior para construir intervalos de\n",
        "confiança de 75%, 85% e 90% para o número médio de horas trabalhadas\n",
        "por funcionários de mercearias. Como muda a largura do intervalo\n",
        "de confiança à medida que o nível de confiança aumenta?"
      ],
      "metadata": {
        "id": "58uNSo_sM8MF"
      }
    },
    {
      "cell_type": "code",
      "source": [
        "import matplotlib.pyplot as plt\n",
        "# Níveis de confiança\n",
        "niveis = [0.75, 0.85, 0.90]\n",
        "# Intervalo de confiança para a média populacional\n",
        "intervalos = [st.norm.interval(alpha=nivel, loc=x_barra, scale=sigma_x) for nivel in niveis]\n",
        "# Exibição dos intervalos e construção gráfica\n",
        "plt.figure(figsize=(8,3))\n",
        "ALTURAS = [0.5, 1, 1.5]\n",
        "CORES = ['r', 'g', 'b']\n",
        "print('*** Intervalos de conficança para a média populacional ***')\n",
        "for i in range(len(niveis)):\n",
        "  print(f'{niveis[i]*100}% --> ({intervalos[i][0]:.2f}, {intervalos[i][1]:.2f})')\n",
        "  plt.hlines(ALTURAS[i], intervalos[i][0], intervalos[i][1], colors=CORES[i])\n",
        "# Atributos do gráfico\n",
        "ax = plt.gca()\n",
        "ax.get_yaxis().set_visible(False)\n",
        "plt.ylim(0, 2)\n",
        "plt.vlines(x_barra, 0, 2, colors='k', linestyles='dashed')\n",
        "plt.title('Intervalos de Confiança')\n",
        "plt.xlabel('Horas trabalhadas nas mercearias')\n",
        "plt.legend(['75%', '85%', '90%','Média'], loc='lower left')\n",
        "plt.show()"
      ],
      "metadata": {
        "colab": {
          "base_uri": "https://localhost:8080/",
          "height": 310
        },
        "id": "FxSWH_cYNcyT",
        "outputId": "2214ba4d-b69a-42c3-9a50-2f9aef4edc63"
      },
      "execution_count": null,
      "outputs": [
        {
          "output_type": "stream",
          "name": "stdout",
          "text": [
            "*** Intervalos de conficança para a média populacional ***\n",
            "75.0% --> (27.24, 30.56)\n",
            "85.0% --> (26.82, 30.98)\n",
            "90.0% --> (26.53, 31.27)\n"
          ]
        },
        {
          "output_type": "display_data",
          "data": {
            "text/plain": [
              "<Figure size 576x216 with 1 Axes>"
            ],
            "image/png": "[encoded data removed]"
          },
          "metadata": {
            "needs_background": "light"
          }
        }
      ]
    },
    {
      "cell_type": "markdown",
      "source": [
        "# Intervalo de confiança para a média, com $\\sigma$ desconhecido\n",
        "\n",
        "Você seleciona aleatoriamente 16 cafeterias e mede a temperatura do café vendido em cada uma delas. A temperatura média da amostra é 162,0 ºF com desvio padrão de 10,0 ºF.\n",
        "\n",
        "Construa os intervalos de confiança de 90% e 99% para a temperatura\n",
        "média da população de cafés vendidos."
      ],
      "metadata": {
        "id": "U453JGSiYDCF"
      }
    },
    {
      "cell_type": "code",
      "source": [
        "# Níveis de confiança\n",
        "niveis = [0.90, 0.99]\n",
        "# Atributos da distribuição\n",
        "x_barra, std_amostral = 162, 10\n",
        "num_amostras = 16\n",
        "graus_liberdade = num_amostras - 1\n",
        "# Intervalo de confiança para a média populacional\n",
        "intervalos = [st.t.interval(alpha=nivel, df=graus_liberdade, loc=x_barra,\n",
        "                            scale=std_amostral/num_amostras**0.5) for nivel in niveis]\n",
        "# Exibição dos intervalos\n",
        "print('*** Intervalos de conficança para a média populacional ***')\n",
        "for i in range(len(niveis)):\n",
        "  print(f'{niveis[i]*100}% --> ({intervalos[i][0]:.2f}, {intervalos[i][1]:.2f})')"
      ],
      "metadata": {
        "colab": {
          "base_uri": "https://localhost:8080/"
        },
        "id": "3R_giubnaP-7",
        "outputId": "d4f71882-ca90-4cff-f3ed-1d60b10fc1f7"
      },
      "execution_count": null,
      "outputs": [
        {
          "output_type": "stream",
          "name": "stdout",
          "text": [
            "*** Intervalos de conficança para a média populacional ***\n",
            "90.0% --> (157.62, 166.38)\n",
            "99.0% --> (154.63, 169.37)\n"
          ]
        }
      ]
    },
    {
      "cell_type": "markdown",
      "source": [
        "Você seleciona aleatoriamente 36 carros do mesmo modelo que foram\n",
        "vendidos em uma concessionária, e determina o número de dias\n",
        "que cada um permaneceu no pátio da concessionária antes de ser vendido.\n",
        "A média amostral é de 9,75 dias, com um desvio padrão amostral\n",
        "de 2,39 dias. Construa um intervalo de confiança de 99% para o número\n",
        "médio populacional de dias que um carro permanece no pátio da\n",
        "concessionária."
      ],
      "metadata": {
        "id": "hWsvwsZhaFuY"
      }
    },
    {
      "cell_type": "code",
      "source": [
        "# Nível de confiança\n",
        "nivel = 0.99\n",
        "# Atributos da distribuição\n",
        "x_barra, std_amostral = 9.75, 2.39\n",
        "num_amostras = 36\n",
        "graus_liberdade = num_amostras - 1\n",
        "# Intervalo de confiança\n",
        "intervalo = st.t.interval(alpha=nivel, df=graus_liberdade, loc=x_barra,\n",
        "                          scale=std_amostral/num_amostras**0.5)\n",
        "print(f'Intervalo de confiança: ({intervalo[0]:.2f}, {intervalo[1]:.2f})')"
      ],
      "metadata": {
        "colab": {
          "base_uri": "https://localhost:8080/"
        },
        "id": "mIoiPPuJaNHY",
        "outputId": "6a1948da-8d66-464c-c366-082cad92c36c"
      },
      "execution_count": null,
      "outputs": [
        {
          "output_type": "stream",
          "name": "stdout",
          "text": [
            "Intervalo de confiança: (8.67, 10.83)\n"
          ]
        }
      ]
    },
    {
      "cell_type": "markdown",
      "source": [
        "Considere o conjunto de dados a seguir (amostra de uma população). Construa um intervalo de confiança com 95% de confiança que contenha a média poulacional. Assuma que a população é normalmente distribuída.\n",
        "\n",
        "*NOTA:* Para estimar o erro padrão da média ($s/\\sqrt{n}$), use o método *sem* (standard error of the mean) do módulo *stats*."
      ],
      "metadata": {
        "id": "2Y-ypJmdbpZe"
      }
    },
    {
      "cell_type": "code",
      "source": [
        "import numpy as np\n",
        "# Dados amostrais\n",
        "amostras = [1, 1, 1, 2, 2, 2, 3, 3, 3, 3,\n",
        "            3, 4, 4, 5, 5, 5, 6, 7, 8, 10]\n",
        "# Nível de confiança\n",
        "nivel = 0.95\n",
        "# Atributos da distribuição\n",
        "x_barra = np.mean(amostras)\n",
        "erro_padrao = st.sem(amostras)\n",
        "num_amostras = 20\n",
        "graus_liberdade = num_amostras - 1\n",
        "# Intervalo de confiança\n",
        "intervalo = st.t.interval(alpha=nivel, df=graus_liberdade,\n",
        "                          loc=x_barra, scale=erro_padrao)\n",
        "print(f'Intervalo de confiança: ({intervalo[0]:.2f}, {intervalo[1]:.2f})')"
      ],
      "metadata": {
        "colab": {
          "base_uri": "https://localhost:8080/"
        },
        "id": "gwoFAW7ta8uP",
        "outputId": "cfb6a631-42f2-4155-f39f-302943554135"
      },
      "execution_count": null,
      "outputs": [
        {
          "output_type": "stream",
          "name": "stdout",
          "text": [
            "Intervalo de confiança: (2.76, 5.04)\n"
          ]
        }
      ]
    }
  ]
}