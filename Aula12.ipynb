{
  "nbformat": 4,
  "nbformat_minor": 0,
  "metadata": {
    "colab": {
      "provenance": [],
      "collapsed_sections": []
    },
    "kernelspec": {
      "name": "python3",
      "display_name": "Python 3"
    },
    "language_info": {
      "name": "python"
    }
  },
  "cells": [
    {
      "cell_type": "markdown",
      "source": [
        "# Encontrando escores-z\n",
        "Dada uma área (uma probabilidade), qual o correspondente escore-z relativo à uma distribuição normal padrão? O método *ppf (Percent Point Function)* da classe *stats.norm* resolve esse problema.\n",
        "\n",
        "*   Determine o escore-*z* que tenha 96,16% da área de distribuição à sua direita.\n",
        "*   Determine o escore-*z* para o qual 95% da área de distribuição esteja entre *–z* e *z*.\n"
      ],
      "metadata": {
        "id": "CdeADdIO4kg7"
      }
    },
    {
      "cell_type": "code",
      "execution_count": 49,
      "metadata": {
        "colab": {
          "base_uri": "https://localhost:8080/"
        },
        "id": "NZ_FkG5tW0QD",
        "outputId": "8faa21b8-9669-4b36-d5b9-b44a6c3469db"
      },
      "outputs": [
        {
          "output_type": "stream",
          "name": "stdout",
          "text": [
            "z1 = -1.770\n",
            "Conferindo... Área à direita = 96.16%\n",
            "z2 = -1.645\n",
            "Conferindo... Área à esquerda de z = -1.645 é 5.00%\n",
            "Conferindo... Área à direita de z = 1.645 é 5.00%\n"
          ]
        }
      ],
      "source": [
        "from scipy import stats\n",
        "# Construindo a distribuição normal padrão\n",
        "mu, std = 0, 1\n",
        "normpad = stats.norm(mu, std)\n",
        "# Escore-z que tenha 96,16% da área de distribuição à sua direita\n",
        "z1 = normpad.ppf(1-0.9616)\n",
        "print(f'z1 = {z1:.3f}')\n",
        "print(f'Conferindo... Área à direita = {normpad.sf(z1)*100:.2f}%')\n",
        "# Escore-z para o qual 95% da área de distribuição esteja entre –z e z\n",
        "z2 = normpad.ppf(0.05)\n",
        "print(f'z2 = {z2:.3f}')\n",
        "print(f'Conferindo... Área à esquerda de z = {z2:.3f} é {normpad.cdf(z2)*100:.2f}%')\n",
        "print(f'Conferindo... Área à direita de z = {-z2:.3f} é {normpad.sf(-z2)*100:.2f}%')"
      ]
    },
    {
      "cell_type": "markdown",
      "source": [
        "**Exercício:** Um pesquisador testa as distâncias de frenagem de diversos carros. A distância de frenagem de 60 milhas por hora até uma parada completa em pista seca é medida em pés. As distâncias de frenagem de uma\n",
        "amostra de carros são normalmente distribuídas, com média de 129 pés e desvio padrão de 5,18 pés.\n",
        "\n",
        "Qual é a maior distância de frenagem que um desses carros poderia ter e ainda estar no grupo do 1% mais baixo? (*Adaptado de: Consumer Reports*)"
      ],
      "metadata": {
        "id": "1EK-ITbCJdoO"
      }
    },
    {
      "cell_type": "code",
      "source": [
        "# Construindo a distribuição normal das distâncias de frenagem\n",
        "mu, std = 129, 5.18\n",
        "normpad = stats.norm(mu, std)\n",
        "# Distância máxima com 1% da área de distribuição à sua esquerda\n",
        "dist = normpad.ppf(0.01)\n",
        "print(f'Distância máxima = {dist:.2f} pés')\n",
        "print(f'Conferindo... Área à esquerda = {normpad.cdf(dist)*100:.2f}%')"
      ],
      "metadata": {
        "colab": {
          "base_uri": "https://localhost:8080/",
          "height": 0
        },
        "id": "h8ozlqPSJc_o",
        "outputId": "02a05948-a222-4b87-8237-a589a8692f92"
      },
      "execution_count": 26,
      "outputs": [
        {
          "output_type": "stream",
          "name": "stdout",
          "text": [
            "Distância máxima = 116.95 pés\n",
            "Conferindo... Área à esquerda = 1.00%\n"
          ]
        }
      ]
    },
    {
      "cell_type": "markdown",
      "source": [
        "**Exercício:** O tempo de trabalho dos funcionários em uma empresa é normalmente distribuído, com média de 11,2 anos e desvio padrão de 2,1 anos.\n",
        "\n",
        "Em uma redução de quadro, os 10% com menos tempo na empresa são demitidos. Qual é o tempo máximo que um funcionário pode ter trabalhado na empresa e ainda assim ser cortado?"
      ],
      "metadata": {
        "id": "54dxW5xhKvEu"
      }
    },
    {
      "cell_type": "code",
      "source": [
        "# Construindo a distribuição normal dos tempos de empresa\n",
        "mu, std = 11.2, 2.1\n",
        "normpad = stats.norm(mu, std)\n",
        "# Tempo de empresa máximo com 10% da área de distribuição à sua esquerda\n",
        "tempo = normpad.ppf(0.1)\n",
        "print(f'Distância máxima = {tempo:.2f} anos')\n",
        "print(f'Conferindo... Área à esquerda = {normpad.cdf(tempo)*100:.2f}%')"
      ],
      "metadata": {
        "colab": {
          "base_uri": "https://localhost:8080/",
          "height": 0
        },
        "id": "m9rd8lK_K4aO",
        "outputId": "3c237bfa-1ff7-4f93-a253-1ec21444f68c"
      },
      "execution_count": 28,
      "outputs": [
        {
          "output_type": "stream",
          "name": "stdout",
          "text": [
            "Distância máxima = 8.51 anos\n",
            "Conferindo... Área à esquerda = 10.00%\n"
          ]
        }
      ]
    },
    {
      "cell_type": "markdown",
      "source": [
        "# Distribuições amostrais\n",
        "**Exercício:** Os valores populacionais $\\{1, 3, 5, 7\\}$ são equiprováveis. Esses valores são escritos em pedaços de papel e colocados em uma caixa. Então, selecionam-se dois pedaços de papel aleatoriamente, com reposição.\n",
        "\n",
        "*   **(a)** Liste todas as amostras possíveis de tamanho $𝑛 = 2$ e calcule suas respectivas médias.\n",
        "*   **(b)** Encontre a média, a variância e o desvio\n",
        "padrão das médias amostrais.\n",
        "*   **(c)** Compare seus resultados com a média $\\mu = 4$,\n",
        "variância $\\sigma^2 = 5$, e desvio padrão $\\sigma \\approx 2,236$ da população.\n",
        "\n",
        "\n"
      ],
      "metadata": {
        "id": "FH34JYg4BpHj"
      }
    },
    {
      "cell_type": "code",
      "source": [
        "import itertools as it\n",
        "import pandas as pd\n",
        "## Item (a)\n",
        "# Chave para permutação\n",
        "chave = [1, 3, 5, 7]\n",
        "# Geração de todas as amostras possíveis de tamanho 2\n",
        "am2a2 = list(it.product(chave, repeat=2))\n",
        "# Criação de tabela com possíveis amostras, acompanhadas de suas médias\n",
        "amostras = pd.DataFrame({'Amostras': am2a2,\n",
        "                        'Média': [(x1+x2)/2 for (x1, x2) in am2a2]})\n",
        "display(amostras)"
      ],
      "metadata": {
        "colab": {
          "base_uri": "https://localhost:8080/",
          "height": 551
        },
        "id": "7L96dWDcC20x",
        "outputId": "7dc658e1-ca12-4e49-ef8f-9736f07393df"
      },
      "execution_count": 7,
      "outputs": [
        {
          "output_type": "display_data",
          "data": {
            "text/plain": [
              "   Amostras  Média\n",
              "0    (1, 1)    1.0\n",
              "1    (1, 3)    2.0\n",
              "2    (1, 5)    3.0\n",
              "3    (1, 7)    4.0\n",
              "4    (3, 1)    2.0\n",
              "5    (3, 3)    3.0\n",
              "6    (3, 5)    4.0\n",
              "7    (3, 7)    5.0\n",
              "8    (5, 1)    3.0\n",
              "9    (5, 3)    4.0\n",
              "10   (5, 5)    5.0\n",
              "11   (5, 7)    6.0\n",
              "12   (7, 1)    4.0\n",
              "13   (7, 3)    5.0\n",
              "14   (7, 5)    6.0\n",
              "15   (7, 7)    7.0"
            ],
            "text/html": [
              "\n",
              "  <div id=\"df-7aa581bc-e2b7-48eb-aedb-7511512f44b9\">\n",
              "    <div class=\"colab-df-container\">\n",
              "      <div>\n",
              "<style scoped>\n",
              "    .dataframe tbody tr th:only-of-type {\n",
              "        vertical-align: middle;\n",
              "    }\n",
              "\n",
              "    .dataframe tbody tr th {\n",
              "        vertical-align: top;\n",
              "    }\n",
              "\n",
              "    .dataframe thead th {\n",
              "        text-align: right;\n",
              "    }\n",
              "</style>\n",
              "<table border=\"1\" class=\"dataframe\">\n",
              "  <thead>\n",
              "    <tr style=\"text-align: right;\">\n",
              "      <th></th>\n",
              "      <th>Amostras</th>\n",
              "      <th>Média</th>\n",
              "    </tr>\n",
              "  </thead>\n",
              "  <tbody>\n",
              "    <tr>\n",
              "      <th>0</th>\n",
              "      <td>(1, 1)</td>\n",
              "      <td>1.0</td>\n",
              "    </tr>\n",
              "    <tr>\n",
              "      <th>1</th>\n",
              "      <td>(1, 3)</td>\n",
              "      <td>2.0</td>\n",
              "    </tr>\n",
              "    <tr>\n",
              "      <th>2</th>\n",
              "      <td>(1, 5)</td>\n",
              "      <td>3.0</td>\n",
              "    </tr>\n",
              "    <tr>\n",
              "      <th>3</th>\n",
              "      <td>(1, 7)</td>\n",
              "      <td>4.0</td>\n",
              "    </tr>\n",
              "    <tr>\n",
              "      <th>4</th>\n",
              "      <td>(3, 1)</td>\n",
              "      <td>2.0</td>\n",
              "    </tr>\n",
              "    <tr>\n",
              "      <th>5</th>\n",
              "      <td>(3, 3)</td>\n",
              "      <td>3.0</td>\n",
              "    </tr>\n",
              "    <tr>\n",
              "      <th>6</th>\n",
              "      <td>(3, 5)</td>\n",
              "      <td>4.0</td>\n",
              "    </tr>\n",
              "    <tr>\n",
              "      <th>7</th>\n",
              "      <td>(3, 7)</td>\n",
              "      <td>5.0</td>\n",
              "    </tr>\n",
              "    <tr>\n",
              "      <th>8</th>\n",
              "      <td>(5, 1)</td>\n",
              "      <td>3.0</td>\n",
              "    </tr>\n",
              "    <tr>\n",
              "      <th>9</th>\n",
              "      <td>(5, 3)</td>\n",
              "      <td>4.0</td>\n",
              "    </tr>\n",
              "    <tr>\n",
              "      <th>10</th>\n",
              "      <td>(5, 5)</td>\n",
              "      <td>5.0</td>\n",
              "    </tr>\n",
              "    <tr>\n",
              "      <th>11</th>\n",
              "      <td>(5, 7)</td>\n",
              "      <td>6.0</td>\n",
              "    </tr>\n",
              "    <tr>\n",
              "      <th>12</th>\n",
              "      <td>(7, 1)</td>\n",
              "      <td>4.0</td>\n",
              "    </tr>\n",
              "    <tr>\n",
              "      <th>13</th>\n",
              "      <td>(7, 3)</td>\n",
              "      <td>5.0</td>\n",
              "    </tr>\n",
              "    <tr>\n",
              "      <th>14</th>\n",
              "      <td>(7, 5)</td>\n",
              "      <td>6.0</td>\n",
              "    </tr>\n",
              "    <tr>\n",
              "      <th>15</th>\n",
              "      <td>(7, 7)</td>\n",
              "      <td>7.0</td>\n",
              "    </tr>\n",
              "  </tbody>\n",
              "</table>\n",
              "</div>\n",
              "      <button class=\"colab-df-convert\" onclick=\"convertToInteractive('df-7aa581bc-e2b7-48eb-aedb-7511512f44b9')\"\n",
              "              title=\"Convert this dataframe to an interactive table.\"\n",
              "              style=\"display:none;\">\n",
              "        \n",
              "  <svg xmlns=\"http://www.w3.org/2000/svg\" height=\"24px\"viewBox=\"0 0 24 24\"\n",
              "       width=\"24px\">\n",
              "    <path d=\"M0 0h24v24H0V0z\" fill=\"none\"/>\n",
              "    <path d=\"M18.56 5.44l.94 2.06.94-2.06 2.06-.94-2.06-.94-.94-2.06-.94 2.06-2.06.94zm-11 1L8.5 8.5l.94-2.06 2.06-.94-2.06-.94L8.5 2.5l-.94 2.06-2.06.94zm10 10l.94 2.06.94-2.06 2.06-.94-2.06-.94-.94-2.06-.94 2.06-2.06.94z\"/><path d=\"M17.41 7.96l-1.37-1.37c-.4-.4-.92-.59-1.43-.59-.52 0-1.04.2-1.43.59L10.3 9.45l-7.72 7.72c-.78.78-.78 2.05 0 2.83L4 21.41c.39.39.9.59 1.41.59.51 0 1.02-.2 1.41-.59l7.78-7.78 2.81-2.81c.8-.78.8-2.07 0-2.86zM5.41 20L4 18.59l7.72-7.72 1.47 1.35L5.41 20z\"/>\n",
              "  </svg>\n",
              "      </button>\n",
              "      \n",
              "  <style>\n",
              "    .colab-df-container {\n",
              "      display:flex;\n",
              "      flex-wrap:wrap;\n",
              "      gap: 12px;\n",
              "    }\n",
              "\n",
              "    .colab-df-convert {\n",
              "      background-color: #E8F0FE;\n",
              "      border: none;\n",
              "      border-radius: 50%;\n",
              "      cursor: pointer;\n",
              "      display: none;\n",
              "      fill: #1967D2;\n",
              "      height: 32px;\n",
              "      padding: 0 0 0 0;\n",
              "      width: 32px;\n",
              "    }\n",
              "\n",
              "    .colab-df-convert:hover {\n",
              "      background-color: #E2EBFA;\n",
              "      box-shadow: 0px 1px 2px rgba(60, 64, 67, 0.3), 0px 1px 3px 1px rgba(60, 64, 67, 0.15);\n",
              "      fill: #174EA6;\n",
              "    }\n",
              "\n",
              "    [theme=dark] .colab-df-convert {\n",
              "      background-color: #3B4455;\n",
              "      fill: #D2E3FC;\n",
              "    }\n",
              "\n",
              "    [theme=dark] .colab-df-convert:hover {\n",
              "      background-color: #434B5C;\n",
              "      box-shadow: 0px 1px 3px 1px rgba(0, 0, 0, 0.15);\n",
              "      filter: drop-shadow(0px 1px 2px rgba(0, 0, 0, 0.3));\n",
              "      fill: #FFFFFF;\n",
              "    }\n",
              "  </style>\n",
              "\n",
              "      <script>\n",
              "        const buttonEl =\n",
              "          document.querySelector('#df-7aa581bc-e2b7-48eb-aedb-7511512f44b9 button.colab-df-convert');\n",
              "        buttonEl.style.display =\n",
              "          google.colab.kernel.accessAllowed ? 'block' : 'none';\n",
              "\n",
              "        async function convertToInteractive(key) {\n",
              "          const element = document.querySelector('#df-7aa581bc-e2b7-48eb-aedb-7511512f44b9');\n",
              "          const dataTable =\n",
              "            await google.colab.kernel.invokeFunction('convertToInteractive',\n",
              "                                                     [key], {});\n",
              "          if (!dataTable) return;\n",
              "\n",
              "          const docLinkHtml = 'Like what you see? Visit the ' +\n",
              "            '<a target=\"_blank\" href=https://colab.research.google.com/notebooks/data_table.ipynb>data table notebook</a>'\n",
              "            + ' to learn more about interactive tables.';\n",
              "          element.innerHTML = '';\n",
              "          dataTable['output_type'] = 'display_data';\n",
              "          await google.colab.output.renderOutput(dataTable, element);\n",
              "          const docLink = document.createElement('div');\n",
              "          docLink.innerHTML = docLinkHtml;\n",
              "          element.appendChild(docLink);\n",
              "        }\n",
              "      </script>\n",
              "    </div>\n",
              "  </div>\n",
              "  "
            ]
          },
          "metadata": {}
        }
      ]
    },
    {
      "cell_type": "code",
      "source": [
        "## Item (b)\n",
        "# Determinação da frequência de cada média\n",
        "contagem = amostras['Média'].value_counts().sort_index()\n",
        "# Criação de tabela com as possíveis médias e suas respectivas probabilidades\n",
        "dist_prob = pd.DataFrame({'Médias': contagem.index,\n",
        "                         'Frequência': contagem})\n",
        "dist_prob['Probabilidade'] = dist_prob['Frequência'] / dist_prob['Frequência'].sum()\n",
        "display(dist_prob)\n",
        "# Cálculo da média das médias amostrais\n",
        "media_amostras = (dist_prob['Médias']*dist_prob['Probabilidade']).sum()\n",
        "print(f'Média das médias amostrais = {media_amostras:.2f}')\n",
        "# Cálculo da variância das médias amostrais\n",
        "var_amostras = (dist_prob['Médias']**2*dist_prob['Probabilidade']).sum() - media_amostras**2\n",
        "print(f'Variância das médias amostrais = {var_amostras:.2f}')\n",
        "# Cálculo do desvio padrão das médias amostrais\n",
        "std_amostras = var_amostras**(1/2)\n",
        "print(f'Desvio padrão das médias amostrais = {std_amostras:.2f}')"
      ],
      "metadata": {
        "colab": {
          "base_uri": "https://localhost:8080/",
          "height": 321
        },
        "id": "3IU0L_aZGaMi",
        "outputId": "38b5cd3d-8b3b-4f76-b7eb-dd0322dceb10"
      },
      "execution_count": 42,
      "outputs": [
        {
          "output_type": "display_data",
          "data": {
            "text/plain": [
              "     Médias  Frequência  Probabilidade\n",
              "1.0     1.0           1         0.0625\n",
              "2.0     2.0           2         0.1250\n",
              "3.0     3.0           3         0.1875\n",
              "4.0     4.0           4         0.2500\n",
              "5.0     5.0           3         0.1875\n",
              "6.0     6.0           2         0.1250\n",
              "7.0     7.0           1         0.0625"
            ],
            "text/html": [
              "\n",
              "  <div id=\"df-dd773098-3253-48f9-9f5e-06ec53135321\">\n",
              "    <div class=\"colab-df-container\">\n",
              "      <div>\n",
              "<style scoped>\n",
              "    .dataframe tbody tr th:only-of-type {\n",
              "        vertical-align: middle;\n",
              "    }\n",
              "\n",
              "    .dataframe tbody tr th {\n",
              "        vertical-align: top;\n",
              "    }\n",
              "\n",
              "    .dataframe thead th {\n",
              "        text-align: right;\n",
              "    }\n",
              "</style>\n",
              "<table border=\"1\" class=\"dataframe\">\n",
              "  <thead>\n",
              "    <tr style=\"text-align: right;\">\n",
              "      <th></th>\n",
              "      <th>Médias</th>\n",
              "      <th>Frequência</th>\n",
              "      <th>Probabilidade</th>\n",
              "    </tr>\n",
              "  </thead>\n",
              "  <tbody>\n",
              "    <tr>\n",
              "      <th>1.0</th>\n",
              "      <td>1.0</td>\n",
              "      <td>1</td>\n",
              "      <td>0.0625</td>\n",
              "    </tr>\n",
              "    <tr>\n",
              "      <th>2.0</th>\n",
              "      <td>2.0</td>\n",
              "      <td>2</td>\n",
              "      <td>0.1250</td>\n",
              "    </tr>\n",
              "    <tr>\n",
              "      <th>3.0</th>\n",
              "      <td>3.0</td>\n",
              "      <td>3</td>\n",
              "      <td>0.1875</td>\n",
              "    </tr>\n",
              "    <tr>\n",
              "      <th>4.0</th>\n",
              "      <td>4.0</td>\n",
              "      <td>4</td>\n",
              "      <td>0.2500</td>\n",
              "    </tr>\n",
              "    <tr>\n",
              "      <th>5.0</th>\n",
              "      <td>5.0</td>\n",
              "      <td>3</td>\n",
              "      <td>0.1875</td>\n",
              "    </tr>\n",
              "    <tr>\n",
              "      <th>6.0</th>\n",
              "      <td>6.0</td>\n",
              "      <td>2</td>\n",
              "      <td>0.1250</td>\n",
              "    </tr>\n",
              "    <tr>\n",
              "      <th>7.0</th>\n",
              "      <td>7.0</td>\n",
              "      <td>1</td>\n",
              "      <td>0.0625</td>\n",
              "    </tr>\n",
              "  </tbody>\n",
              "</table>\n",
              "</div>\n",
              "      <button class=\"colab-df-convert\" onclick=\"convertToInteractive('df-dd773098-3253-48f9-9f5e-06ec53135321')\"\n",
              "              title=\"Convert this dataframe to an interactive table.\"\n",
              "              style=\"display:none;\">\n",
              "        \n",
              "  <svg xmlns=\"http://www.w3.org/2000/svg\" height=\"24px\"viewBox=\"0 0 24 24\"\n",
              "       width=\"24px\">\n",
              "    <path d=\"M0 0h24v24H0V0z\" fill=\"none\"/>\n",
              "    <path d=\"M18.56 5.44l.94 2.06.94-2.06 2.06-.94-2.06-.94-.94-2.06-.94 2.06-2.06.94zm-11 1L8.5 8.5l.94-2.06 2.06-.94-2.06-.94L8.5 2.5l-.94 2.06-2.06.94zm10 10l.94 2.06.94-2.06 2.06-.94-2.06-.94-.94-2.06-.94 2.06-2.06.94z\"/><path d=\"M17.41 7.96l-1.37-1.37c-.4-.4-.92-.59-1.43-.59-.52 0-1.04.2-1.43.59L10.3 9.45l-7.72 7.72c-.78.78-.78 2.05 0 2.83L4 21.41c.39.39.9.59 1.41.59.51 0 1.02-.2 1.41-.59l7.78-7.78 2.81-2.81c.8-.78.8-2.07 0-2.86zM5.41 20L4 18.59l7.72-7.72 1.47 1.35L5.41 20z\"/>\n",
              "  </svg>\n",
              "      </button>\n",
              "      \n",
              "  <style>\n",
              "    .colab-df-container {\n",
              "      display:flex;\n",
              "      flex-wrap:wrap;\n",
              "      gap: 12px;\n",
              "    }\n",
              "\n",
              "    .colab-df-convert {\n",
              "      background-color: #E8F0FE;\n",
              "      border: none;\n",
              "      border-radius: 50%;\n",
              "      cursor: pointer;\n",
              "      display: none;\n",
              "      fill: #1967D2;\n",
              "      height: 32px;\n",
              "      padding: 0 0 0 0;\n",
              "      width: 32px;\n",
              "    }\n",
              "\n",
              "    .colab-df-convert:hover {\n",
              "      background-color: #E2EBFA;\n",
              "      box-shadow: 0px 1px 2px rgba(60, 64, 67, 0.3), 0px 1px 3px 1px rgba(60, 64, 67, 0.15);\n",
              "      fill: #174EA6;\n",
              "    }\n",
              "\n",
              "    [theme=dark] .colab-df-convert {\n",
              "      background-color: #3B4455;\n",
              "      fill: #D2E3FC;\n",
              "    }\n",
              "\n",
              "    [theme=dark] .colab-df-convert:hover {\n",
              "      background-color: #434B5C;\n",
              "      box-shadow: 0px 1px 3px 1px rgba(0, 0, 0, 0.15);\n",
              "      filter: drop-shadow(0px 1px 2px rgba(0, 0, 0, 0.3));\n",
              "      fill: #FFFFFF;\n",
              "    }\n",
              "  </style>\n",
              "\n",
              "      <script>\n",
              "        const buttonEl =\n",
              "          document.querySelector('#df-dd773098-3253-48f9-9f5e-06ec53135321 button.colab-df-convert');\n",
              "        buttonEl.style.display =\n",
              "          google.colab.kernel.accessAllowed ? 'block' : 'none';\n",
              "\n",
              "        async function convertToInteractive(key) {\n",
              "          const element = document.querySelector('#df-dd773098-3253-48f9-9f5e-06ec53135321');\n",
              "          const dataTable =\n",
              "            await google.colab.kernel.invokeFunction('convertToInteractive',\n",
              "                                                     [key], {});\n",
              "          if (!dataTable) return;\n",
              "\n",
              "          const docLinkHtml = 'Like what you see? Visit the ' +\n",
              "            '<a target=\"_blank\" href=https://colab.research.google.com/notebooks/data_table.ipynb>data table notebook</a>'\n",
              "            + ' to learn more about interactive tables.';\n",
              "          element.innerHTML = '';\n",
              "          dataTable['output_type'] = 'display_data';\n",
              "          await google.colab.output.renderOutput(dataTable, element);\n",
              "          const docLink = document.createElement('div');\n",
              "          docLink.innerHTML = docLinkHtml;\n",
              "          element.appendChild(docLink);\n",
              "        }\n",
              "      </script>\n",
              "    </div>\n",
              "  </div>\n",
              "  "
            ]
          },
          "metadata": {}
        },
        {
          "output_type": "stream",
          "name": "stdout",
          "text": [
            "Média das médias amostrais = 4.00\n",
            "Variância das médias amostrais = 2.50\n",
            "Desvio padrão das médias amostrais = 1.58\n"
          ]
        }
      ]
    },
    {
      "cell_type": "code",
      "source": [
        "## Item (c)\n",
        "mu, std = 4, 5**(1/2)\n",
        "print('De acordo com a teoria das distribuições amostrais:')\n",
        "print(f'A média mu_x = {media_amostras:.2f} deve ser igual a média populacional mu = {mu}.')\n",
        "print(f'O desvio padrão sigma_x = {std_amostras:.2f} deve ser igual a sigma/raiz(n) = {std/(2**(1/2)):.2f}')"
      ],
      "metadata": {
        "colab": {
          "base_uri": "https://localhost:8080/"
        },
        "id": "uz1hY6mMMpPa",
        "outputId": "ad256ffc-8e47-4ad1-9b3a-f700aee0752b"
      },
      "execution_count": 46,
      "outputs": [
        {
          "output_type": "stream",
          "name": "stdout",
          "text": [
            "De acordo com a teoria das distribuições amostrais:\n",
            "A média mu_x = 4.00 deve ser igual a média populacional mu = 4.\n",
            "O desvio padrão sigma_x = 1.58 deve ser igual a sigma/raiz(n) = 1.58\n"
          ]
        }
      ]
    },
    {
      "cell_type": "markdown",
      "source": [
        "# Probabilidades e o TLC\n",
        "**Exercício:** O gasto médio com alojamento e refeição, por ano, em faculdades de quatro anos é de US\\$ 9.126,00. Você seleciona aleatoriamente 9 dessas faculdades. Qual é a probabilidade de que a média de gastos com alojamento e refeição seja menor que US\\$ 9.400,00?\n",
        "\n",
        "Suponha que os gastos com alojamento e refeição sejam normalmente distribuídos, com desvio padrão de US$ 1.500,00 (*Adaptado de: National Center for\n",
        "Education Statistics*)."
      ],
      "metadata": {
        "id": "yFR9X9cbc4gx"
      }
    },
    {
      "cell_type": "code",
      "source": [
        "# Determinação da média e desvio padrão amostrais\n",
        "mu, std, n = 9126, 1500, 9\n",
        "mu_x, std_x = mu, std/(n**(1/2))\n",
        "# Geração da distribuição normal amostral (TLC)\n",
        "gastos = stats.norm(mu_x, std_x)\n",
        "# Cálculo da probabilidade\n",
        "prob = gastos.cdf(9400)\n",
        "print(f'A probabilidade de que os gastos sejam inferiores a US$ 94k é de {prob*100:.2f}%.')"
      ],
      "metadata": {
        "colab": {
          "base_uri": "https://localhost:8080/"
        },
        "id": "WdysGeb5dUZw",
        "outputId": "2959bee6-5398-4a86-aed8-a51944fe67a7"
      },
      "execution_count": 51,
      "outputs": [
        {
          "output_type": "stream",
          "name": "stdout",
          "text": [
            "A probabilidade de que os gastos sejam inferiores a US$ 94k é de 70.82%.\n"
          ]
        }
      ]
    },
    {
      "cell_type": "markdown",
      "source": [
        "**Exercício:** A dívida média no cartão de crédito mantida por universitários é normalmente distribuída, com média de US\\$ 3.173,00 e desvio padrão de\n",
        "US\\$ 1.120,00 (*Adaptado de: Sallie Mae*).\n",
        "\n",
        "*   Qual é a probabilidade de que um universitário selecionado aleatoriamente,\n",
        "que possui um cartão de crédito, tenha uma divida menor\n",
        "que US\\$ 2.700?\n",
        "*   Você seleciona aleatoriamente 25 universitários que possuem cartão\n",
        "de crédito. Qual é a probabilidade de que a média dessas dívidas\n",
        "médias seja menor que US\\$ 2.700?"
      ],
      "metadata": {
        "id": "Ia4PRRmIetnW"
      }
    },
    {
      "cell_type": "code",
      "source": [
        "'''No primeiro item, devemos calcular a probabilidade associada a um determinado\n",
        "valor da variável aleatória dívida no cartão de crédito.'''\n",
        "# Geração da distribuição normal da população\n",
        "mu, std = 3173, 1120\n",
        "divida_pop = stats.norm(mu, std)\n",
        "# Cálculo da probabilidade\n",
        "prob1 = divida_pop.cdf(2700)\n",
        "print(f'P(dívida <= 2700.00) = {prob1*100:.2f}%.')\n",
        "'''No segundo item, devemos calcular uma probabilidade associada a uma\n",
        "média amostral.'''\n",
        "# Geração da distribuição das médias amostrais\n",
        "n = 25\n",
        "mu_x, std_x = mu, std/(n**(1/2))\n",
        "divida_amostra = stats.norm(mu_x, std_x)\n",
        "# Cálculo da probabilidade\n",
        "prob2 = divida_amostra.cdf(2700)\n",
        "print(f'P(dívida média <= 2700.00) = {prob2*100:.2f}%.')"
      ],
      "metadata": {
        "colab": {
          "base_uri": "https://localhost:8080/"
        },
        "id": "20UIchWzfeq1",
        "outputId": "4ceeae5b-0ec0-412a-aae9-9296c5570307"
      },
      "execution_count": 54,
      "outputs": [
        {
          "output_type": "stream",
          "name": "stdout",
          "text": [
            "P(dívida <= 2700.00) = 33.64%.\n",
            "P(dívida média <= 2700.00) = 1.74%.\n"
          ]
        }
      ]
    }
  ]
}